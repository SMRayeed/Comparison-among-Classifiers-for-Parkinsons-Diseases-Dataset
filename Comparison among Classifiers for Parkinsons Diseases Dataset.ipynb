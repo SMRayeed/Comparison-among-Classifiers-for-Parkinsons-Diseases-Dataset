{
  "nbformat": 4,
  "nbformat_minor": 0,
  "metadata": {
    "colab": {
      "name": "ML SampleProject - Parkinsons Diseases with Classifiers.ipynb",
      "provenance": [],
      "collapsed_sections": []
    },
    "kernelspec": {
      "name": "python3",
      "display_name": "Python 3"
    }
  },
  "cells": [
    {
      "cell_type": "code",
      "metadata": {
        "id": "hEkPakueD7nG",
        "colab_type": "code",
        "colab": {}
      },
      "source": [
        "import numpy as np\n",
        "import matplotlib.pyplot as plt\n",
        "import pandas as pd"
      ],
      "execution_count": 194,
      "outputs": []
    },
    {
      "cell_type": "code",
      "metadata": {
        "id": "XQ6Q_87OEDwy",
        "colab_type": "code",
        "colab": {
          "base_uri": "https://localhost:8080/",
          "height": 34
        },
        "outputId": "7dfd3ec1-cca3-4d63-d7ab-e26cb1ae72be"
      },
      "source": [
        "from google.colab import drive\n",
        "drive.mount('/content/drive')"
      ],
      "execution_count": 195,
      "outputs": [
        {
          "output_type": "stream",
          "text": [
            "Drive already mounted at /content/drive; to attempt to forcibly remount, call drive.mount(\"/content/drive\", force_remount=True).\n"
          ],
          "name": "stdout"
        }
      ]
    },
    {
      "cell_type": "code",
      "metadata": {
        "id": "sJCgJhHSEFJT",
        "colab_type": "code",
        "colab": {}
      },
      "source": [
        "df = pd.read_csv(r'/content/drive/My Drive/ML Project/Parkinsons Diseases/parkinsons.data')\n",
        "\n",
        "features = df.iloc[ : , df.columns != 'status'].values[ : , 1: ]\n",
        "labels = df.iloc[ : ,df.columns == 'status'].values"
      ],
      "execution_count": 199,
      "outputs": []
    },
    {
      "cell_type": "code",
      "metadata": {
        "id": "FTBw2EBz-UmR",
        "colab_type": "code",
        "colab": {}
      },
      "source": [
        "from sklearn.preprocessing import StandardScaler\n",
        "\n",
        "sc_X = StandardScaler()\n",
        "x = sc_X.fit_transform(features)\n",
        "y = labels"
      ],
      "execution_count": 200,
      "outputs": []
    },
    {
      "cell_type": "code",
      "metadata": {
        "id": "mM9V-UMDGQVt",
        "colab_type": "code",
        "colab": {
          "base_uri": "https://localhost:8080/",
          "height": 35
        },
        "outputId": "04d25d46-4878-4d05-e652-fd9333259985"
      },
      "source": [
        "'''\n",
        "from sklearn.preprocessing import MinMaxScaler\n",
        "\n",
        "scaler = MinMaxScaler((-1,1))\n",
        "x = scaler.fit_transform(features)\n",
        "y = labels '''"
      ],
      "execution_count": 82,
      "outputs": [
        {
          "output_type": "execute_result",
          "data": {
            "application/vnd.google.colaboratory.intrinsic+json": {
              "type": "string"
            },
            "text/plain": [
              "'\\nfrom sklearn.preprocessing import MinMaxScaler\\n\\nscaler = MinMaxScaler((-1,1))\\nx = scaler.fit_transform(features)\\ny = labels '"
            ]
          },
          "metadata": {
            "tags": []
          },
          "execution_count": 82
        }
      ]
    },
    {
      "cell_type": "code",
      "metadata": {
        "id": "hu6DaYh5-q7-",
        "colab_type": "code",
        "colab": {}
      },
      "source": [
        "from sklearn.model_selection import train_test_split\n",
        "x_train,x_test,y_train,y_test=train_test_split(x, y, test_size=0.2, random_state=0)"
      ],
      "execution_count": 201,
      "outputs": []
    },
    {
      "cell_type": "markdown",
      "metadata": {
        "id": "po_Nme87RbZ_",
        "colab_type": "text"
      },
      "source": [
        "### XGB"
      ]
    },
    {
      "cell_type": "code",
      "metadata": {
        "id": "KoHTwLIi-u2X",
        "colab_type": "code",
        "colab": {
          "base_uri": "https://localhost:8080/",
          "height": 222
        },
        "outputId": "a76b1c4b-8a32-4e5d-aa88-c33cc14607a7"
      },
      "source": [
        "from xgboost import XGBClassifier\n",
        "\n",
        "modelXGB = XGBClassifier()\n",
        "modelXGB.fit(x_train, y_train)"
      ],
      "execution_count": 202,
      "outputs": [
        {
          "output_type": "stream",
          "text": [
            "/usr/local/lib/python3.6/dist-packages/sklearn/preprocessing/_label.py:235: DataConversionWarning: A column-vector y was passed when a 1d array was expected. Please change the shape of y to (n_samples, ), for example using ravel().\n",
            "  y = column_or_1d(y, warn=True)\n",
            "/usr/local/lib/python3.6/dist-packages/sklearn/preprocessing/_label.py:268: DataConversionWarning: A column-vector y was passed when a 1d array was expected. Please change the shape of y to (n_samples, ), for example using ravel().\n",
            "  y = column_or_1d(y, warn=True)\n"
          ],
          "name": "stderr"
        },
        {
          "output_type": "execute_result",
          "data": {
            "text/plain": [
              "XGBClassifier(base_score=0.5, booster='gbtree', colsample_bylevel=1,\n",
              "              colsample_bynode=1, colsample_bytree=1, gamma=0,\n",
              "              learning_rate=0.1, max_delta_step=0, max_depth=3,\n",
              "              min_child_weight=1, missing=None, n_estimators=100, n_jobs=1,\n",
              "              nthread=None, objective='binary:logistic', random_state=0,\n",
              "              reg_alpha=0, reg_lambda=1, scale_pos_weight=1, seed=None,\n",
              "              silent=None, subsample=1, verbosity=1)"
            ]
          },
          "metadata": {
            "tags": []
          },
          "execution_count": 202
        }
      ]
    },
    {
      "cell_type": "code",
      "metadata": {
        "id": "0uaO8cu--0Pk",
        "colab_type": "code",
        "colab": {
          "base_uri": "https://localhost:8080/",
          "height": 34
        },
        "outputId": "c27c2896-8889-4675-9f10-516001c48fc2"
      },
      "source": [
        "from sklearn import metrics\n",
        "\n",
        "y_predXGB = modelXGB.predict(x_test)\n",
        "accuracyXGB = metrics.accuracy_score(y_test, y_predXGB)*100\n",
        "print(\"Accuracy in XGB Classifier : %.2f\" % accuracyXGB)"
      ],
      "execution_count": 203,
      "outputs": [
        {
          "output_type": "stream",
          "text": [
            "Accuracy in XGB Classifier : 94.87\n"
          ],
          "name": "stdout"
        }
      ]
    },
    {
      "cell_type": "code",
      "metadata": {
        "id": "gt4imQwAAv4D",
        "colab_type": "code",
        "colab": {
          "base_uri": "https://localhost:8080/",
          "height": 282
        },
        "outputId": "42a92b97-24b6-4d6d-eb31-f97a8e0bd740"
      },
      "source": [
        "from sklearn.metrics import confusion_matrix\n",
        "import seaborn as ss\n",
        "\n",
        "confusionMatrix_XGB = confusion_matrix(y_test, y_predXGB)\n",
        "\n",
        "xAxisLabels = ['No Parkinson - Actual', 'Parkinson - Actual']\n",
        "yAxisLabels = ['No Parkinson - Predicted', 'Parkinson - Predicted']\n",
        "\n",
        "ss.heatmap(confusionMatrix_XGB, annot = True, xticklabels=xAxisLabels, yticklabels=yAxisLabels)"
      ],
      "execution_count": 205,
      "outputs": [
        {
          "output_type": "execute_result",
          "data": {
            "text/plain": [
              "<matplotlib.axes._subplots.AxesSubplot at 0x7f9861b31b38>"
            ]
          },
          "metadata": {
            "tags": []
          },
          "execution_count": 205
        },
        {
          "output_type": "display_data",
          "data": {
            "image/png": "[encoded data removed]",
            "text/plain": [
              "<Figure size 432x288 with 2 Axes>"
            ]
          },
          "metadata": {
            "tags": [],
            "needs_background": "light"
          }
        }
      ]
    },
    {
      "cell_type": "markdown",
      "metadata": {
        "id": "8JQoM6h4RfTc",
        "colab_type": "text"
      },
      "source": [
        "### GNB"
      ]
    },
    {
      "cell_type": "code",
      "metadata": {
        "id": "Xxbr0l5yG22x",
        "colab_type": "code",
        "colab": {
          "base_uri": "https://localhost:8080/",
          "height": 87
        },
        "outputId": "fc42db02-534e-440a-bd7f-140d7205ede2"
      },
      "source": [
        "from sklearn.naive_bayes import GaussianNB\n",
        "\n",
        "modelGNB = GaussianNB()\n",
        "modelGNB.fit(x_train, y_train)"
      ],
      "execution_count": 206,
      "outputs": [
        {
          "output_type": "stream",
          "text": [
            "/usr/local/lib/python3.6/dist-packages/sklearn/naive_bayes.py:206: DataConversionWarning: A column-vector y was passed when a 1d array was expected. Please change the shape of y to (n_samples, ), for example using ravel().\n",
            "  y = column_or_1d(y, warn=True)\n"
          ],
          "name": "stderr"
        },
        {
          "output_type": "execute_result",
          "data": {
            "text/plain": [
              "GaussianNB(priors=None, var_smoothing=1e-09)"
            ]
          },
          "metadata": {
            "tags": []
          },
          "execution_count": 206
        }
      ]
    },
    {
      "cell_type": "code",
      "metadata": {
        "id": "l0IXUNjQG2-z",
        "colab_type": "code",
        "colab": {
          "base_uri": "https://localhost:8080/",
          "height": 34
        },
        "outputId": "7e831a3f-dd92-4d73-f69a-fb6ebb49751d"
      },
      "source": [
        "y_predGNB = modelGNB.predict(x_test)\n",
        "accuracyGNB = metrics.accuracy_score(y_test, y_predGNB)*100\n",
        "print(\"Accuracy in GNB Classifier : %.2f\" % accuracyGNB)"
      ],
      "execution_count": 207,
      "outputs": [
        {
          "output_type": "stream",
          "text": [
            "Accuracy in GNB Classifier : 69.23\n"
          ],
          "name": "stdout"
        }
      ]
    },
    {
      "cell_type": "code",
      "metadata": {
        "id": "zvVNmDFsG3DO",
        "colab_type": "code",
        "colab": {
          "base_uri": "https://localhost:8080/",
          "height": 282
        },
        "outputId": "2b54f6ff-64cb-4e36-c7f2-96b35b6c3711"
      },
      "source": [
        "confusionMatrix_GNB = confusion_matrix(y_test, y_predGNB)\n",
        "\n",
        "xAxisLabels = ['No Parkinson - Actual', 'Parkinson - Actual']\n",
        "yAxisLabels = ['No Parkinson - Predicted', 'Parkinson - Predicted']\n",
        "\n",
        "ss.heatmap(confusionMatrix_GNB, annot = True, xticklabels=xAxisLabels, yticklabels=yAxisLabels)"
      ],
      "execution_count": 208,
      "outputs": [
        {
          "output_type": "execute_result",
          "data": {
            "text/plain": [
              "<matplotlib.axes._subplots.AxesSubplot at 0x7f9861ab3e48>"
            ]
          },
          "metadata": {
            "tags": []
          },
          "execution_count": 208
        },
        {
          "output_type": "display_data",
          "data": {
            "image/png": "[encoded data removed]",
            "text/plain": [
              "<Figure size 432x288 with 2 Axes>"
            ]
          },
          "metadata": {
            "tags": [],
            "needs_background": "light"
          }
        }
      ]
    },
    {
      "cell_type": "markdown",
      "metadata": {
        "id": "3rmPbIclRjMY",
        "colab_type": "text"
      },
      "source": [
        "### LR"
      ]
    },
    {
      "cell_type": "code",
      "metadata": {
        "id": "pvWKHb-KMB9b",
        "colab_type": "code",
        "colab": {
          "base_uri": "https://localhost:8080/",
          "height": 154
        },
        "outputId": "3e837707-059d-4add-a286-710aec1c751b"
      },
      "source": [
        "from sklearn.linear_model import LogisticRegression\n",
        "\n",
        "modelLR = LogisticRegression()\n",
        "modelLR.fit(x_train, y_train)"
      ],
      "execution_count": 209,
      "outputs": [
        {
          "output_type": "stream",
          "text": [
            "/usr/local/lib/python3.6/dist-packages/sklearn/utils/validation.py:760: DataConversionWarning: A column-vector y was passed when a 1d array was expected. Please change the shape of y to (n_samples, ), for example using ravel().\n",
            "  y = column_or_1d(y, warn=True)\n"
          ],
          "name": "stderr"
        },
        {
          "output_type": "execute_result",
          "data": {
            "text/plain": [
              "LogisticRegression(C=1.0, class_weight=None, dual=False, fit_intercept=True,\n",
              "                   intercept_scaling=1, l1_ratio=None, max_iter=100,\n",
              "                   multi_class='auto', n_jobs=None, penalty='l2',\n",
              "                   random_state=None, solver='lbfgs', tol=0.0001, verbose=0,\n",
              "                   warm_start=False)"
            ]
          },
          "metadata": {
            "tags": []
          },
          "execution_count": 209
        }
      ]
    },
    {
      "cell_type": "code",
      "metadata": {
        "id": "cmEOSGUHMCBa",
        "colab_type": "code",
        "colab": {
          "base_uri": "https://localhost:8080/",
          "height": 34
        },
        "outputId": "79ab99ab-51b2-41a1-fb31-3d0b2c82b4e4"
      },
      "source": [
        "y_predLR = modelLR.predict(x_test)\n",
        "accuracyLR = metrics.accuracy_score(y_test, y_predLR)*100\n",
        "print(\"Accuracy in LR Classifier : %.2f\" % accuracyLR)"
      ],
      "execution_count": 210,
      "outputs": [
        {
          "output_type": "stream",
          "text": [
            "Accuracy in LR Classifier : 79.49\n"
          ],
          "name": "stdout"
        }
      ]
    },
    {
      "cell_type": "code",
      "metadata": {
        "id": "7u-VWWBZMCIt",
        "colab_type": "code",
        "colab": {
          "base_uri": "https://localhost:8080/",
          "height": 282
        },
        "outputId": "d64f3160-b224-486a-cec2-42a6e9f2ff13"
      },
      "source": [
        "confusionMatrix_LR = confusion_matrix(y_test, y_predLR)\n",
        "\n",
        "xAxisLabels = ['No Parkinson - Actual', 'Parkinson - Actual']\n",
        "yAxisLabels = ['No Parkinson - Predicted', 'Parkinson - Predicted']\n",
        "\n",
        "ss.heatmap(confusionMatrix_LR, annot = True, xticklabels=xAxisLabels, yticklabels=yAxisLabels)"
      ],
      "execution_count": 211,
      "outputs": [
        {
          "output_type": "execute_result",
          "data": {
            "text/plain": [
              "<matplotlib.axes._subplots.AxesSubplot at 0x7f9861a44a58>"
            ]
          },
          "metadata": {
            "tags": []
          },
          "execution_count": 211
        },
        {
          "output_type": "display_data",
          "data": {
            "image/png": "[encoded data removed]",
            "text/plain": [
              "<Figure size 432x288 with 2 Axes>"
            ]
          },
          "metadata": {
            "tags": [],
            "needs_background": "light"
          }
        }
      ]
    },
    {
      "cell_type": "markdown",
      "metadata": {
        "id": "qd00VwxiRl70",
        "colab_type": "text"
      },
      "source": [
        "### KNN"
      ]
    },
    {
      "cell_type": "code",
      "metadata": {
        "id": "AuVt5oJFMB_s",
        "colab_type": "code",
        "colab": {
          "base_uri": "https://localhost:8080/",
          "height": 121
        },
        "outputId": "e4bb750f-4f57-4768-917d-a93217f99749"
      },
      "source": [
        "from sklearn.neighbors import KNeighborsClassifier\n",
        "\n",
        "modelKNN = KNeighborsClassifier(n_neighbors=5)\n",
        "modelKNN.fit(x_train, y_train)"
      ],
      "execution_count": 212,
      "outputs": [
        {
          "output_type": "stream",
          "text": [
            "/usr/local/lib/python3.6/dist-packages/ipykernel_launcher.py:4: DataConversionWarning: A column-vector y was passed when a 1d array was expected. Please change the shape of y to (n_samples, ), for example using ravel().\n",
            "  after removing the cwd from sys.path.\n"
          ],
          "name": "stderr"
        },
        {
          "output_type": "execute_result",
          "data": {
            "text/plain": [
              "KNeighborsClassifier(algorithm='auto', leaf_size=30, metric='minkowski',\n",
              "                     metric_params=None, n_jobs=None, n_neighbors=5, p=2,\n",
              "                     weights='uniform')"
            ]
          },
          "metadata": {
            "tags": []
          },
          "execution_count": 212
        }
      ]
    },
    {
      "cell_type": "code",
      "metadata": {
        "id": "tvuBl47gNQzA",
        "colab_type": "code",
        "colab": {
          "base_uri": "https://localhost:8080/",
          "height": 34
        },
        "outputId": "2ac5d38d-7892-4a58-feb6-f97882e26ae1"
      },
      "source": [
        "y_predKNN = modelKNN.predict(x_test)\n",
        "accuracyKNN = metrics.accuracy_score(y_test, y_predKNN)*100\n",
        "print(\"Accuracy in KNN Classifier : %.2f\" % accuracyKNN)"
      ],
      "execution_count": 213,
      "outputs": [
        {
          "output_type": "stream",
          "text": [
            "Accuracy in KNN Classifier : 94.87\n"
          ],
          "name": "stdout"
        }
      ]
    },
    {
      "cell_type": "code",
      "metadata": {
        "id": "vAZ7k9fdNQ1c",
        "colab_type": "code",
        "colab": {
          "base_uri": "https://localhost:8080/",
          "height": 282
        },
        "outputId": "a04a22fc-af37-4ec2-fab4-08e91fff8e46"
      },
      "source": [
        "confusionMatrix_KNN = confusion_matrix(y_test, y_predKNN)\n",
        "\n",
        "xAxisLabels = ['No Parkinson - Actual', 'Parkinson - Actual']\n",
        "yAxisLabels = ['No Parkinson - Predicted', 'Parkinson - Predicted']\n",
        "\n",
        "ss.heatmap(confusionMatrix_KNN, annot = True, xticklabels=xAxisLabels, yticklabels=yAxisLabels)"
      ],
      "execution_count": 215,
      "outputs": [
        {
          "output_type": "execute_result",
          "data": {
            "text/plain": [
              "<matplotlib.axes._subplots.AxesSubplot at 0x7f98618e8a20>"
            ]
          },
          "metadata": {
            "tags": []
          },
          "execution_count": 215
        },
        {
          "output_type": "display_data",
          "data": {
            "image/png": "[encoded data removed]",
            "text/plain": [
              "<Figure size 432x288 with 2 Axes>"
            ]
          },
          "metadata": {
            "tags": [],
            "needs_background": "light"
          }
        }
      ]
    },
    {
      "cell_type": "markdown",
      "metadata": {
        "id": "04p8z2ItRqCR",
        "colab_type": "text"
      },
      "source": [
        "### SVM"
      ]
    },
    {
      "cell_type": "code",
      "metadata": {
        "id": "VUJicp4dN0pj",
        "colab_type": "code",
        "colab": {
          "base_uri": "https://localhost:8080/",
          "height": 138
        },
        "outputId": "66240618-4adb-4d78-cbaf-c80effbd337f"
      },
      "source": [
        "from sklearn.svm import SVC\n",
        "\n",
        "modelSVM = SVC(kernel = 'rbf')\n",
        "modelSVM.fit(x_train, y_train)"
      ],
      "execution_count": 216,
      "outputs": [
        {
          "output_type": "stream",
          "text": [
            "/usr/local/lib/python3.6/dist-packages/sklearn/utils/validation.py:760: DataConversionWarning: A column-vector y was passed when a 1d array was expected. Please change the shape of y to (n_samples, ), for example using ravel().\n",
            "  y = column_or_1d(y, warn=True)\n"
          ],
          "name": "stderr"
        },
        {
          "output_type": "execute_result",
          "data": {
            "text/plain": [
              "SVC(C=1.0, break_ties=False, cache_size=200, class_weight=None, coef0=0.0,\n",
              "    decision_function_shape='ovr', degree=3, gamma='scale', kernel='rbf',\n",
              "    max_iter=-1, probability=False, random_state=None, shrinking=True,\n",
              "    tol=0.001, verbose=False)"
            ]
          },
          "metadata": {
            "tags": []
          },
          "execution_count": 216
        }
      ]
    },
    {
      "cell_type": "code",
      "metadata": {
        "id": "wXTdGMC2N0tw",
        "colab_type": "code",
        "colab": {
          "base_uri": "https://localhost:8080/",
          "height": 34
        },
        "outputId": "b7e6fe29-3003-4b1e-f202-957b3d2081f1"
      },
      "source": [
        "y_predSVM = modelSVM.predict(x_test)\n",
        "accuracySVM = metrics.accuracy_score(y_test, y_predSVM)*100\n",
        "print(\"Accuracy in SVM Classifier : %.2f\" % accuracySVM)"
      ],
      "execution_count": 217,
      "outputs": [
        {
          "output_type": "stream",
          "text": [
            "Accuracy in SVM Classifier : 92.31\n"
          ],
          "name": "stdout"
        }
      ]
    },
    {
      "cell_type": "code",
      "metadata": {
        "id": "vnBLNtogN0sM",
        "colab_type": "code",
        "colab": {
          "base_uri": "https://localhost:8080/",
          "height": 282
        },
        "outputId": "2ed8bc77-fc76-4008-abb1-ac80c33cebff"
      },
      "source": [
        "confusionMatrix_SVM = confusion_matrix(y_test, y_predSVM)\n",
        "\n",
        "xAxisLabels = ['No Parkinson - Actual', 'Parkinson - Actual']\n",
        "yAxisLabels = ['No Parkinson - Predicted', 'Parkinson - Predicted']\n",
        "\n",
        "ss.heatmap(confusionMatrix_SVM, annot = True, xticklabels=xAxisLabels, yticklabels=yAxisLabels)"
      ],
      "execution_count": 218,
      "outputs": [
        {
          "output_type": "execute_result",
          "data": {
            "text/plain": [
              "<matplotlib.axes._subplots.AxesSubplot at 0x7f98640152e8>"
            ]
          },
          "metadata": {
            "tags": []
          },
          "execution_count": 218
        },
        {
          "output_type": "display_data",
          "data": {
            "image/png": "[encoded data removed]",
            "text/plain": [
              "<Figure size 432x288 with 2 Axes>"
            ]
          },
          "metadata": {
            "tags": [],
            "needs_background": "light"
          }
        }
      ]
    },
    {
      "cell_type": "markdown",
      "metadata": {
        "id": "Be_-CecYRtP2",
        "colab_type": "text"
      },
      "source": [
        "### DTC"
      ]
    },
    {
      "cell_type": "code",
      "metadata": {
        "id": "x82-QZpAPI9X",
        "colab_type": "code",
        "colab": {
          "base_uri": "https://localhost:8080/",
          "height": 118
        },
        "outputId": "fb63daf6-65d0-434e-a5ee-671f2fdcec80"
      },
      "source": [
        "from sklearn.tree import DecisionTreeClassifier\n",
        "\n",
        "modelDTC = DecisionTreeClassifier(criterion = 'gini')\n",
        "modelDTC.fit(x_train, y_train)"
      ],
      "execution_count": 219,
      "outputs": [
        {
          "output_type": "execute_result",
          "data": {
            "text/plain": [
              "DecisionTreeClassifier(ccp_alpha=0.0, class_weight=None, criterion='gini',\n",
              "                       max_depth=None, max_features=None, max_leaf_nodes=None,\n",
              "                       min_impurity_decrease=0.0, min_impurity_split=None,\n",
              "                       min_samples_leaf=1, min_samples_split=2,\n",
              "                       min_weight_fraction_leaf=0.0, presort='deprecated',\n",
              "                       random_state=None, splitter='best')"
            ]
          },
          "metadata": {
            "tags": []
          },
          "execution_count": 219
        }
      ]
    },
    {
      "cell_type": "code",
      "metadata": {
        "id": "CQu9jRtDPJAO",
        "colab_type": "code",
        "colab": {
          "base_uri": "https://localhost:8080/",
          "height": 34
        },
        "outputId": "f3007891-c267-493e-91af-47f7fdf3e85a"
      },
      "source": [
        "y_predDTC = modelDTC.predict(x_test)\n",
        "accuracyDTC = metrics.accuracy_score(y_test, y_predDTC)*100\n",
        "print(\"Accuracy in DTC Classifier : %.2f\" % accuracyDTC)"
      ],
      "execution_count": 220,
      "outputs": [
        {
          "output_type": "stream",
          "text": [
            "Accuracy in DTC Classifier : 87.18\n"
          ],
          "name": "stdout"
        }
      ]
    },
    {
      "cell_type": "code",
      "metadata": {
        "id": "hCtllnu8PJGK",
        "colab_type": "code",
        "colab": {
          "base_uri": "https://localhost:8080/",
          "height": 282
        },
        "outputId": "56471526-28a9-449e-b63e-499aa9950542"
      },
      "source": [
        "confusionMatrix_DTC = confusion_matrix(y_test, y_predDTC)\n",
        "\n",
        "xAxisLabels = ['No Parkinson - Actual', 'Parkinson - Actual']\n",
        "yAxisLabels = ['No Parkinson - Predicted', 'Parkinson - Predicted']\n",
        "\n",
        "ss.heatmap(confusionMatrix_DTC, annot = True, xticklabels=xAxisLabels, yticklabels=yAxisLabels)"
      ],
      "execution_count": 221,
      "outputs": [
        {
          "output_type": "execute_result",
          "data": {
            "text/plain": [
              "<matplotlib.axes._subplots.AxesSubplot at 0x7f98617f80f0>"
            ]
          },
          "metadata": {
            "tags": []
          },
          "execution_count": 221
        },
        {
          "output_type": "display_data",
          "data": {
            "image/png": "[encoded data removed]",
            "text/plain": [
              "<Figure size 432x288 with 2 Axes>"
            ]
          },
          "metadata": {
            "tags": [],
            "needs_background": "light"
          }
        }
      ]
    },
    {
      "cell_type": "markdown",
      "metadata": {
        "id": "xBDW4FKZRwFT",
        "colab_type": "text"
      },
      "source": [
        "### RFC"
      ]
    },
    {
      "cell_type": "code",
      "metadata": {
        "id": "nla0TmlwQhIX",
        "colab_type": "code",
        "colab": {
          "base_uri": "https://localhost:8080/",
          "height": 205
        },
        "outputId": "0ae2f45d-ba76-46a2-a975-90e45317c6fb"
      },
      "source": [
        "from sklearn.ensemble import RandomForestClassifier\n",
        "\n",
        "modelRFC = RandomForestClassifier(n_estimators = 10, criterion = 'gini')\n",
        "modelRFC.fit(x_train, y_train)"
      ],
      "execution_count": 222,
      "outputs": [
        {
          "output_type": "stream",
          "text": [
            "/usr/local/lib/python3.6/dist-packages/ipykernel_launcher.py:4: DataConversionWarning: A column-vector y was passed when a 1d array was expected. Please change the shape of y to (n_samples,), for example using ravel().\n",
            "  after removing the cwd from sys.path.\n"
          ],
          "name": "stderr"
        },
        {
          "output_type": "execute_result",
          "data": {
            "text/plain": [
              "RandomForestClassifier(bootstrap=True, ccp_alpha=0.0, class_weight=None,\n",
              "                       criterion='gini', max_depth=None, max_features='auto',\n",
              "                       max_leaf_nodes=None, max_samples=None,\n",
              "                       min_impurity_decrease=0.0, min_impurity_split=None,\n",
              "                       min_samples_leaf=1, min_samples_split=2,\n",
              "                       min_weight_fraction_leaf=0.0, n_estimators=10,\n",
              "                       n_jobs=None, oob_score=False, random_state=None,\n",
              "                       verbose=0, warm_start=False)"
            ]
          },
          "metadata": {
            "tags": []
          },
          "execution_count": 222
        }
      ]
    },
    {
      "cell_type": "code",
      "metadata": {
        "id": "oqqXURhvQhMB",
        "colab_type": "code",
        "colab": {
          "base_uri": "https://localhost:8080/",
          "height": 34
        },
        "outputId": "4b21c0f5-9bb7-47c5-938b-b756fb4aff68"
      },
      "source": [
        "y_predRFC = modelRFC.predict(x_test)\n",
        "accuracyRFC = metrics.accuracy_score(y_test, y_predRFC)*100\n",
        "print(\"Accuracy in RFC Classifier : %.2f\" % accuracyRFC)"
      ],
      "execution_count": 223,
      "outputs": [
        {
          "output_type": "stream",
          "text": [
            "Accuracy in RFC Classifier : 89.74\n"
          ],
          "name": "stdout"
        }
      ]
    },
    {
      "cell_type": "code",
      "metadata": {
        "id": "cBqv2dHrPJD4",
        "colab_type": "code",
        "colab": {
          "base_uri": "https://localhost:8080/",
          "height": 282
        },
        "outputId": "9549c0c7-8b14-414c-f47d-06d313016303"
      },
      "source": [
        "confusionMatrix_RFC = confusion_matrix(y_test, y_predRFC)\n",
        "\n",
        "xAxisLabels = ['No Parkinson - Actual', 'Parkinson - Actual']\n",
        "yAxisLabels = ['No Parkinson - Predicted', 'Parkinson - Predicted']\n",
        "\n",
        "ss.heatmap(confusionMatrix_RFC, annot = True, xticklabels=xAxisLabels, yticklabels=yAxisLabels)"
      ],
      "execution_count": 224,
      "outputs": [
        {
          "output_type": "execute_result",
          "data": {
            "text/plain": [
              "<matplotlib.axes._subplots.AxesSubplot at 0x7f986178ba58>"
            ]
          },
          "metadata": {
            "tags": []
          },
          "execution_count": 224
        },
        {
          "output_type": "display_data",
          "data": {
            "image/png": "[encoded data removed]",
            "text/plain": [
              "<Figure size 432x288 with 2 Axes>"
            ]
          },
          "metadata": {
            "tags": [],
            "needs_background": "light"
          }
        }
      ]
    },
    {
      "cell_type": "markdown",
      "metadata": {
        "id": "EYG9wJyPRy22",
        "colab_type": "text"
      },
      "source": [
        "### ANN"
      ]
    },
    {
      "cell_type": "code",
      "metadata": {
        "id": "YEDYe7EKGApj",
        "colab_type": "code",
        "colab": {
          "base_uri": "https://localhost:8080/",
          "height": 1000
        },
        "outputId": "7830c93d-b110-4bbb-c7e7-8b9cc8835c3f"
      },
      "source": [
        "import keras\n",
        "from keras.models import Sequential\n",
        "from keras.layers import Dense\n",
        "\n",
        "classifier = Sequential()\n",
        "classifier.add(Dense(units=16, activation='relu', input_shape=(22,)))\n",
        "classifier.add(Dense(units=1, activation='sigmoid'))\n",
        "\n",
        "classifier.compile(optimizer='adam', loss='binary_crossentropy', metrics=['accuracy'] )\n",
        "classifier.fit(x_train, y_train, epochs=100, batch_size=1)"
      ],
      "execution_count": 234,
      "outputs": [
        {
          "output_type": "stream",
          "text": [
            "Epoch 1/100\n",
            "156/156 [==============================] - 0s 895us/step - loss: 0.7210 - accuracy: 0.5385\n",
            "Epoch 2/100\n",
            "156/156 [==============================] - 0s 872us/step - loss: 0.5146 - accuracy: 0.7436\n",
            "Epoch 3/100\n",
            "156/156 [==============================] - 0s 841us/step - loss: 0.4336 - accuracy: 0.8205\n",
            "Epoch 4/100\n",
            "156/156 [==============================] - 0s 819us/step - loss: 0.3786 - accuracy: 0.8462\n",
            "Epoch 5/100\n",
            "156/156 [==============================] - 0s 819us/step - loss: 0.3389 - accuracy: 0.8654\n",
            "Epoch 6/100\n",
            "156/156 [==============================] - 0s 834us/step - loss: 0.3113 - accuracy: 0.8910\n",
            "Epoch 7/100\n",
            "156/156 [==============================] - 0s 908us/step - loss: 0.2875 - accuracy: 0.8846\n",
            "Epoch 8/100\n",
            "156/156 [==============================] - 0s 871us/step - loss: 0.2705 - accuracy: 0.8974\n",
            "Epoch 9/100\n",
            "156/156 [==============================] - 0s 876us/step - loss: 0.2571 - accuracy: 0.9103\n",
            "Epoch 10/100\n",
            "156/156 [==============================] - 0s 869us/step - loss: 0.2425 - accuracy: 0.9038\n",
            "Epoch 11/100\n",
            "156/156 [==============================] - 0s 915us/step - loss: 0.2297 - accuracy: 0.9167\n",
            "Epoch 12/100\n",
            "156/156 [==============================] - 0s 883us/step - loss: 0.2186 - accuracy: 0.9231\n",
            "Epoch 13/100\n",
            "156/156 [==============================] - 0s 883us/step - loss: 0.2092 - accuracy: 0.9231\n",
            "Epoch 14/100\n",
            "156/156 [==============================] - 0s 979us/step - loss: 0.2010 - accuracy: 0.9231\n",
            "Epoch 15/100\n",
            "156/156 [==============================] - 0s 904us/step - loss: 0.1932 - accuracy: 0.9231\n",
            "Epoch 16/100\n",
            "156/156 [==============================] - 0s 854us/step - loss: 0.1857 - accuracy: 0.9167\n",
            "Epoch 17/100\n",
            "156/156 [==============================] - 0s 936us/step - loss: 0.1786 - accuracy: 0.9487\n",
            "Epoch 18/100\n",
            "156/156 [==============================] - 0s 919us/step - loss: 0.1718 - accuracy: 0.9487\n",
            "Epoch 19/100\n",
            "156/156 [==============================] - 0s 941us/step - loss: 0.1648 - accuracy: 0.9551\n",
            "Epoch 20/100\n",
            "156/156 [==============================] - 0s 1ms/step - loss: 0.1588 - accuracy: 0.9487\n",
            "Epoch 21/100\n",
            "156/156 [==============================] - 0s 919us/step - loss: 0.1559 - accuracy: 0.9487\n",
            "Epoch 22/100\n",
            "156/156 [==============================] - 0s 882us/step - loss: 0.1461 - accuracy: 0.9551\n",
            "Epoch 23/100\n",
            "156/156 [==============================] - 0s 912us/step - loss: 0.1432 - accuracy: 0.9487\n",
            "Epoch 24/100\n",
            "156/156 [==============================] - 0s 916us/step - loss: 0.1368 - accuracy: 0.9679\n",
            "Epoch 25/100\n",
            "156/156 [==============================] - 0s 893us/step - loss: 0.1346 - accuracy: 0.9423\n",
            "Epoch 26/100\n",
            "156/156 [==============================] - 0s 899us/step - loss: 0.1284 - accuracy: 0.9551\n",
            "Epoch 27/100\n",
            "156/156 [==============================] - 0s 1ms/step - loss: 0.1241 - accuracy: 0.9744\n",
            "Epoch 28/100\n",
            "156/156 [==============================] - 0s 925us/step - loss: 0.1168 - accuracy: 0.9679\n",
            "Epoch 29/100\n",
            "156/156 [==============================] - 0s 913us/step - loss: 0.1146 - accuracy: 0.9679\n",
            "Epoch 30/100\n",
            "156/156 [==============================] - 0s 1ms/step - loss: 0.1123 - accuracy: 0.9615\n",
            "Epoch 31/100\n",
            "156/156 [==============================] - 0s 871us/step - loss: 0.1075 - accuracy: 0.9615\n",
            "Epoch 32/100\n",
            "156/156 [==============================] - 0s 823us/step - loss: 0.1032 - accuracy: 0.9808\n",
            "Epoch 33/100\n",
            "156/156 [==============================] - 0s 885us/step - loss: 0.0980 - accuracy: 0.9808\n",
            "Epoch 34/100\n",
            "156/156 [==============================] - 0s 1ms/step - loss: 0.0968 - accuracy: 0.9808\n",
            "Epoch 35/100\n",
            "156/156 [==============================] - 0s 908us/step - loss: 0.0914 - accuracy: 0.9808\n",
            "Epoch 36/100\n",
            "156/156 [==============================] - 0s 867us/step - loss: 0.0864 - accuracy: 0.9872\n",
            "Epoch 37/100\n",
            "156/156 [==============================] - 0s 890us/step - loss: 0.0868 - accuracy: 0.9872\n",
            "Epoch 38/100\n",
            "156/156 [==============================] - 0s 896us/step - loss: 0.0833 - accuracy: 0.9808\n",
            "Epoch 39/100\n",
            "156/156 [==============================] - 0s 900us/step - loss: 0.0800 - accuracy: 0.9936\n",
            "Epoch 40/100\n",
            "156/156 [==============================] - 0s 869us/step - loss: 0.0780 - accuracy: 0.9808\n",
            "Epoch 41/100\n",
            "156/156 [==============================] - 0s 1ms/step - loss: 0.0760 - accuracy: 0.9808\n",
            "Epoch 42/100\n",
            "156/156 [==============================] - 0s 960us/step - loss: 0.0714 - accuracy: 0.9872\n",
            "Epoch 43/100\n",
            "156/156 [==============================] - 0s 900us/step - loss: 0.0691 - accuracy: 0.9936\n",
            "Epoch 44/100\n",
            "156/156 [==============================] - 0s 1ms/step - loss: 0.0645 - accuracy: 1.0000\n",
            "Epoch 45/100\n",
            "156/156 [==============================] - 0s 953us/step - loss: 0.0649 - accuracy: 1.0000\n",
            "Epoch 46/100\n",
            "156/156 [==============================] - 0s 943us/step - loss: 0.0604 - accuracy: 0.9936\n",
            "Epoch 47/100\n",
            "156/156 [==============================] - 0s 1ms/step - loss: 0.0588 - accuracy: 0.9936\n",
            "Epoch 48/100\n",
            "156/156 [==============================] - 0s 935us/step - loss: 0.0562 - accuracy: 1.0000\n",
            "Epoch 49/100\n",
            "156/156 [==============================] - 0s 1ms/step - loss: 0.0549 - accuracy: 1.0000\n",
            "Epoch 50/100\n",
            "156/156 [==============================] - 0s 912us/step - loss: 0.0532 - accuracy: 1.0000\n",
            "Epoch 51/100\n",
            "156/156 [==============================] - 0s 860us/step - loss: 0.0523 - accuracy: 0.9936\n",
            "Epoch 52/100\n",
            "156/156 [==============================] - 0s 857us/step - loss: 0.0488 - accuracy: 1.0000\n",
            "Epoch 53/100\n",
            "156/156 [==============================] - 0s 902us/step - loss: 0.0461 - accuracy: 0.9936\n",
            "Epoch 54/100\n",
            "156/156 [==============================] - 0s 943us/step - loss: 0.0452 - accuracy: 1.0000\n",
            "Epoch 55/100\n",
            "156/156 [==============================] - 0s 883us/step - loss: 0.0424 - accuracy: 1.0000\n",
            "Epoch 56/100\n",
            "156/156 [==============================] - 0s 855us/step - loss: 0.0415 - accuracy: 1.0000\n",
            "Epoch 57/100\n",
            "156/156 [==============================] - 0s 951us/step - loss: 0.0404 - accuracy: 1.0000\n",
            "Epoch 58/100\n",
            "156/156 [==============================] - 0s 936us/step - loss: 0.0392 - accuracy: 1.0000\n",
            "Epoch 59/100\n",
            "156/156 [==============================] - 0s 912us/step - loss: 0.0363 - accuracy: 1.0000\n",
            "Epoch 60/100\n",
            "156/156 [==============================] - 0s 884us/step - loss: 0.0350 - accuracy: 1.0000\n",
            "Epoch 61/100\n",
            "156/156 [==============================] - 0s 1ms/step - loss: 0.0378 - accuracy: 1.0000\n",
            "Epoch 62/100\n",
            "156/156 [==============================] - 0s 930us/step - loss: 0.0325 - accuracy: 1.0000\n",
            "Epoch 63/100\n",
            "156/156 [==============================] - 0s 887us/step - loss: 0.0314 - accuracy: 1.0000\n",
            "Epoch 64/100\n",
            "156/156 [==============================] - 0s 878us/step - loss: 0.0298 - accuracy: 1.0000\n",
            "Epoch 65/100\n",
            "156/156 [==============================] - 0s 1ms/step - loss: 0.0293 - accuracy: 1.0000\n",
            "Epoch 66/100\n",
            "156/156 [==============================] - 0s 883us/step - loss: 0.0289 - accuracy: 1.0000\n",
            "Epoch 67/100\n",
            "156/156 [==============================] - 0s 896us/step - loss: 0.0264 - accuracy: 1.0000\n",
            "Epoch 68/100\n",
            "156/156 [==============================] - 0s 1ms/step - loss: 0.0267 - accuracy: 0.9936\n",
            "Epoch 69/100\n",
            "156/156 [==============================] - 0s 878us/step - loss: 0.0265 - accuracy: 1.0000\n",
            "Epoch 70/100\n",
            "156/156 [==============================] - 0s 928us/step - loss: 0.0231 - accuracy: 1.0000\n",
            "Epoch 71/100\n",
            "156/156 [==============================] - 0s 926us/step - loss: 0.0230 - accuracy: 1.0000\n",
            "Epoch 72/100\n",
            "156/156 [==============================] - 0s 956us/step - loss: 0.0214 - accuracy: 1.0000\n",
            "Epoch 73/100\n",
            "156/156 [==============================] - 0s 948us/step - loss: 0.0223 - accuracy: 1.0000\n",
            "Epoch 74/100\n",
            "156/156 [==============================] - 0s 988us/step - loss: 0.0207 - accuracy: 1.0000\n",
            "Epoch 75/100\n",
            "156/156 [==============================] - 0s 1ms/step - loss: 0.0192 - accuracy: 1.0000\n",
            "Epoch 76/100\n",
            "156/156 [==============================] - 0s 877us/step - loss: 0.0188 - accuracy: 1.0000\n",
            "Epoch 77/100\n",
            "156/156 [==============================] - 0s 932us/step - loss: 0.0186 - accuracy: 1.0000\n",
            "Epoch 78/100\n",
            "156/156 [==============================] - 0s 1ms/step - loss: 0.0168 - accuracy: 1.0000\n",
            "Epoch 79/100\n",
            "156/156 [==============================] - 0s 890us/step - loss: 0.0169 - accuracy: 1.0000\n",
            "Epoch 80/100\n",
            "156/156 [==============================] - 0s 922us/step - loss: 0.0154 - accuracy: 1.0000\n",
            "Epoch 81/100\n",
            "156/156 [==============================] - 0s 1ms/step - loss: 0.0149 - accuracy: 1.0000\n",
            "Epoch 82/100\n",
            "156/156 [==============================] - 0s 860us/step - loss: 0.0149 - accuracy: 1.0000\n",
            "Epoch 83/100\n",
            "156/156 [==============================] - 0s 874us/step - loss: 0.0138 - accuracy: 1.0000\n",
            "Epoch 84/100\n",
            "156/156 [==============================] - 0s 905us/step - loss: 0.0135 - accuracy: 1.0000\n",
            "Epoch 85/100\n",
            "156/156 [==============================] - 0s 938us/step - loss: 0.0124 - accuracy: 1.0000\n",
            "Epoch 86/100\n",
            "156/156 [==============================] - 0s 942us/step - loss: 0.0120 - accuracy: 1.0000\n",
            "Epoch 87/100\n",
            "156/156 [==============================] - 0s 991us/step - loss: 0.0114 - accuracy: 1.0000\n",
            "Epoch 88/100\n",
            "156/156 [==============================] - 0s 1ms/step - loss: 0.0108 - accuracy: 1.0000\n",
            "Epoch 89/100\n",
            "156/156 [==============================] - 0s 940us/step - loss: 0.0104 - accuracy: 1.0000\n",
            "Epoch 90/100\n",
            "156/156 [==============================] - 0s 831us/step - loss: 0.0098 - accuracy: 1.0000\n",
            "Epoch 91/100\n",
            "156/156 [==============================] - 0s 926us/step - loss: 0.0091 - accuracy: 1.0000\n",
            "Epoch 92/100\n",
            "156/156 [==============================] - 0s 885us/step - loss: 0.0092 - accuracy: 1.0000\n",
            "Epoch 93/100\n",
            "156/156 [==============================] - 0s 915us/step - loss: 0.0086 - accuracy: 1.0000\n",
            "Epoch 94/100\n",
            "156/156 [==============================] - 0s 1ms/step - loss: 0.0083 - accuracy: 1.0000\n",
            "Epoch 95/100\n",
            "156/156 [==============================] - 0s 978us/step - loss: 0.0077 - accuracy: 1.0000\n",
            "Epoch 96/100\n",
            "156/156 [==============================] - 0s 896us/step - loss: 0.0076 - accuracy: 1.0000\n",
            "Epoch 97/100\n",
            "156/156 [==============================] - 0s 927us/step - loss: 0.0074 - accuracy: 1.0000\n",
            "Epoch 98/100\n",
            "156/156 [==============================] - 0s 1ms/step - loss: 0.0071 - accuracy: 1.0000\n",
            "Epoch 99/100\n",
            "156/156 [==============================] - 0s 902us/step - loss: 0.0065 - accuracy: 1.0000\n",
            "Epoch 100/100\n",
            "156/156 [==============================] - 0s 869us/step - loss: 0.0065 - accuracy: 1.0000\n"
          ],
          "name": "stdout"
        },
        {
          "output_type": "execute_result",
          "data": {
            "text/plain": [
              "<tensorflow.python.keras.callbacks.History at 0x7f985eb89f28>"
            ]
          },
          "metadata": {
            "tags": []
          },
          "execution_count": 234
        }
      ]
    },
    {
      "cell_type": "code",
      "metadata": {
        "id": "V8iXZJt6beOl",
        "colab_type": "code",
        "colab": {
          "base_uri": "https://localhost:8080/",
          "height": 84
        },
        "outputId": "a03a0bdf-05ae-4e5f-9614-5152d6394d44"
      },
      "source": [
        "print(\"Evaluate on test data\")\n",
        "results = classifier.evaluate(x_test, y_test, batch_size=1)\n",
        "\n",
        "testLossANN = results[0]*100\n",
        "print(\"Test Loss : %.2f\" % testLossANN)\n",
        "\n",
        "accuracyANN = results[1]*100\n",
        "print(\"Test Accuracy : %.2f\" % accuracyANN)"
      ],
      "execution_count": 249,
      "outputs": [
        {
          "output_type": "stream",
          "text": [
            "Evaluate on test data\n",
            "39/39 [==============================] - 0s 771us/step - loss: 0.3246 - accuracy: 0.9231\n",
            "Test Loss : 32.46\n",
            "Test Accuracy : 92.31\n"
          ],
          "name": "stdout"
        }
      ]
    },
    {
      "cell_type": "code",
      "metadata": {
        "id": "aqfVKomZV8_6",
        "colab_type": "code",
        "colab": {
          "base_uri": "https://localhost:8080/",
          "height": 67
        },
        "outputId": "5f324fda-ffaf-4b41-a672-31b77a9f05a9"
      },
      "source": [
        "y_predicted = classifier.predict(x_test)\n",
        "y_predicted = (y_predicted > 0.5)\n",
        "\n",
        "from sklearn.metrics import confusion_matrix\n",
        "\n",
        "confusionMatrix = confusion_matrix(y_test, y_predicted)\n",
        "\n",
        "identificationCorrect = confusionMatrix[0,0] + confusionMatrix[1,1]\n",
        "identificationIncorrect = confusionMatrix[0,1] + confusionMatrix[1,0]\n",
        "Identification = identificationCorrect + identificationIncorrect\n",
        "\n",
        "print('Total Test Samples : ', Identification)\n",
        "print('Correctly Detected : ', identificationCorrect)\n",
        "print('Incorrectly Detected : ', identificationIncorrect)"
      ],
      "execution_count": 250,
      "outputs": [
        {
          "output_type": "stream",
          "text": [
            "Total Test Samples :  39\n",
            "Correctly Detected :  36\n",
            "Incorrectly Detected :  3\n"
          ],
          "name": "stdout"
        }
      ]
    },
    {
      "cell_type": "code",
      "metadata": {
        "id": "SBSZUZKPsedI",
        "colab_type": "code",
        "colab": {
          "base_uri": "https://localhost:8080/",
          "height": 282
        },
        "outputId": "55910573-8256-48b7-b9e7-dfc120de1b11"
      },
      "source": [
        "import seaborn as ss\n",
        "\n",
        "xAxisLabels = ['No Parkinson - Actual', 'Parkinson - Actual']\n",
        "yAxisLabels = ['No Parkinson - Predicted', 'Parkinson - Predicted']\n",
        "\n",
        "ss.heatmap(confusionMatrix, annot = True, xticklabels=xAxisLabels, yticklabels=yAxisLabels)"
      ],
      "execution_count": 251,
      "outputs": [
        {
          "output_type": "execute_result",
          "data": {
            "text/plain": [
              "<matplotlib.axes._subplots.AxesSubplot at 0x7f985c42b780>"
            ]
          },
          "metadata": {
            "tags": []
          },
          "execution_count": 251
        },
        {
          "output_type": "display_data",
          "data": {
            "image/png": "[encoded data removed]",
            "text/plain": [
              "<Figure size 432x288 with 2 Axes>"
            ]
          },
          "metadata": {
            "tags": [],
            "needs_background": "light"
          }
        }
      ]
    },
    {
      "cell_type": "code",
      "metadata": {
        "id": "oAmgtunsTu6q",
        "colab_type": "code",
        "colab": {
          "base_uri": "https://localhost:8080/",
          "height": 282
        },
        "outputId": "4a7f5dee-e0c8-4861-9897-54328fb99393"
      },
      "source": [
        "xAxis = ['XGB', 'GNB', 'LR', 'KNN', 'SVM', 'DTC', 'RFC', 'ANN' ]\n",
        "yAxis = [accuracyXGB, accuracyGNB, accuracyLR, accuracyKNN, accuracySVM, accuracyDTC, accuracyRFC, accuracyANN]\n",
        "\n",
        "accuracyMean = [ np.mean(yAxis) for i in range(len(yAxis))]\n",
        "\n",
        "ss.barplot(xAxis, yAxis, palette=\"Blues_d\", linewidth=1)"
      ],
      "execution_count": 284,
      "outputs": [
        {
          "output_type": "execute_result",
          "data": {
            "text/plain": [
              "<matplotlib.axes._subplots.AxesSubplot at 0x7f9859a895c0>"
            ]
          },
          "metadata": {
            "tags": []
          },
          "execution_count": 284
        },
        {
          "output_type": "display_data",
          "data": {
            "image/png": "[encoded data removed]",
            "text/plain": [
              "<Figure size 432x288 with 1 Axes>"
            ]
          },
          "metadata": {
            "tags": [],
            "needs_background": "light"
          }
        }
      ]
    },
    {
      "cell_type": "code",
      "metadata": {
        "id": "3syTGYsjX46u",
        "colab_type": "code",
        "colab": {
          "base_uri": "https://localhost:8080/",
          "height": 282
        },
        "outputId": "1635744b-7b58-4e5e-dd27-acc0e83abdf6"
      },
      "source": [
        "plt.scatter(xAxis, yAxis, c ='red', marker= 's')\n",
        "plt.plot(xAxis, accuracyMean, c = 'Blue')\n",
        "plt.vlines(xAxis, yAxis, accuracyMean, colors = 'lime')"
      ],
      "execution_count": 285,
      "outputs": [
        {
          "output_type": "execute_result",
          "data": {
            "text/plain": [
              "<matplotlib.collections.LineCollection at 0x7f98599d0e48>"
            ]
          },
          "metadata": {
            "tags": []
          },
          "execution_count": 285
        },
        {
          "output_type": "display_data",
          "data": {
            "image/png": "[encoded data removed]",
            "text/plain": [
              "<Figure size 432x288 with 1 Axes>"
            ]
          },
          "metadata": {
            "tags": [],
            "needs_background": "light"
          }
        }
      ]
    }
  ]
}